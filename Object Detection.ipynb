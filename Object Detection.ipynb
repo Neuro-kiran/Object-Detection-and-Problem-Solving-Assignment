{
 "cells": [
  {
   "cell_type": "code",
   "execution_count": null,
   "id": "69003fc0",
   "metadata": {},
   "outputs": [
    {
     "name": "stderr",
     "output_type": "stream",
     "text": [
      "/tmp/ipykernel_3194/1206250736.py:80: DeprecationWarning: `np.int0` is a deprecated alias for `np.intp`.  (Deprecated NumPy 1.24)\n",
      "  box = np.int0(box)\n"
     ]
    }
   ],
   "source": [
    "import cv2\n",
    "import numpy as np\n",
    "\n",
    "def nothing(x):\n",
    "    pass\n",
    "\n",
    "# Create a window\n",
    "cv2.namedWindow('Frame')\n",
    "\n",
    "# Create trackbars for color change\n",
    "cv2.createTrackbar('LH', 'Frame', 0, 179, nothing)\n",
    "cv2.createTrackbar('LS', 'Frame', 0, 255, nothing)\n",
    "cv2.createTrackbar('LV', 'Frame', 0, 255, nothing)\n",
    "cv2.createTrackbar('UH', 'Frame', 179, 179, nothing)\n",
    "cv2.createTrackbar('US', 'Frame', 255, 255, nothing)\n",
    "cv2.createTrackbar('UV', 'Frame', 255, 255, nothing)\n",
    "\n",
    "# Capture video from webcam\n",
    "cap = cv2.VideoCapture(0)\n",
    "\n",
    "while True:\n",
    "    # Read a frame from the video\n",
    "    ret, frame = cap.read()\n",
    "    if not ret:\n",
    "        break\n",
    "    \n",
    "    # Convert frame to HSV\n",
    "    hsv = cv2.cvtColor(frame, cv2.COLOR_BGR2HSV)\n",
    "    \n",
    "    # Get current positions of the trackbars\n",
    "    l_h = cv2.getTrackbarPos('LH', 'Frame')\n",
    "    l_s = cv2.getTrackbarPos('LS', 'Frame')\n",
    "    l_v = cv2.getTrackbarPos('LV', 'Frame')\n",
    "    u_h = cv2.getTrackbarPos('UH', 'Frame')\n",
    "    u_s = cv2.getTrackbarPos('US', 'Frame')\n",
    "    u_v = cv2.getTrackbarPos('UV', 'Frame')\n",
    "    \n",
    "    # Define the HSV range for color detection\n",
    "    lower_range = np.array([l_h, l_s, l_v])\n",
    "    upper_range = np.array([u_h, u_s, u_v])\n",
    "    \n",
    "    # Create a mask\n",
    "    mask = cv2.inRange(hsv, lower_range, upper_range)\n",
    "    \n",
    "    # Reduce noise in the mask\n",
    "    mask = cv2.erode(mask, None, iterations=2)\n",
    "    mask = cv2.dilate(mask, None, iterations=2)\n",
    "    \n",
    "    # Find contours\n",
    "    contours, _ = cv2.findContours(mask, cv2.RETR_EXTERNAL, cv2.CHAIN_APPROX_SIMPLE)\n",
    "    \n",
    "    for contour in contours:\n",
    "        if cv2.contourArea(contour) > 500:  # Filter out small contours\n",
    "            # Get the bounding box\n",
    "            x, y, w, h = cv2.boundingRect(contour)\n",
    "            \n",
    "            # Draw the bounding box\n",
    "            cv2.rectangle(frame, (x, y), (x + w, y + h), (0, 255, 0), 2)\n",
    "            \n",
    "            # Shape analysis\n",
    "            approx = cv2.approxPolyDP(contour, 0.04 * cv2.arcLength(contour, True), True)\n",
    "            shape_name = \"Irregular\"\n",
    "            if len(approx) == 3:\n",
    "                shape_name = \"Triangle\"\n",
    "            elif len(approx) == 4:\n",
    "                # Use aspect ratio to distinguish between square and rectangle\n",
    "                aspect_ratio = float(w) / h\n",
    "                if 0.95 <= aspect_ratio <= 1.05:\n",
    "                    shape_name = \"Square\"\n",
    "                else:\n",
    "                    shape_name = \"Rectangle\"\n",
    "            elif len(approx) > 4:\n",
    "                shape_name = \"Circle\"\n",
    "            \n",
    "            # Calculate the angle\n",
    "            rect = cv2.minAreaRect(contour)\n",
    "            angle = rect[2]\n",
    "            if shape_name == \"Rectangle\" or shape_name == \"Square\":\n",
    "                box = cv2.boxPoints(rect)\n",
    "                box = np.int0(box)\n",
    "                cv2.drawContours(frame, [box], 0, (0, 0, 255), 2)\n",
    "                angle = angle if angle < 45 else 90 + angle\n",
    "            \n",
    "            # Display shape name and angle\n",
    "            cv2.putText(frame, f\"{shape_name}, Angle: {int(angle)}\", (x, y - 10), cv2.FONT_HERSHEY_SIMPLEX, 0.5, (255, 0, 0), 2)\n",
    "    \n",
    "    # Display the frame\n",
    "    cv2.imshow('Frame', frame)\n",
    "    \n",
    "    # Break the loop on 'q' key press\n",
    "    if cv2.waitKey(1) & 0xFF == ord('q'):\n",
    "        break\n",
    "\n",
    "# Release the video capture object\n",
    "cap.release()\n",
    "cv2.destroyAllWindows()\n"
   ]
  },
  {
   "cell_type": "code",
   "execution_count": null,
   "id": "c85a0321",
   "metadata": {},
   "outputs": [],
   "source": [
    "\n"
   ]
  },
  {
   "cell_type": "code",
   "execution_count": null,
   "id": "a2a877c9",
   "metadata": {},
   "outputs": [],
   "source": []
  },
  {
   "cell_type": "code",
   "execution_count": null,
   "id": "3233ef90",
   "metadata": {},
   "outputs": [],
   "source": []
  },
  {
   "cell_type": "code",
   "execution_count": null,
   "id": "c70a4a33",
   "metadata": {},
   "outputs": [],
   "source": []
  },
  {
   "cell_type": "code",
   "execution_count": null,
   "id": "5ac9136f",
   "metadata": {},
   "outputs": [],
   "source": []
  },
  {
   "cell_type": "code",
   "execution_count": null,
   "id": "af648faf",
   "metadata": {},
   "outputs": [],
   "source": [
    "\n"
   ]
  },
  {
   "cell_type": "code",
   "execution_count": null,
   "id": "cba19a04",
   "metadata": {},
   "outputs": [],
   "source": []
  },
  {
   "cell_type": "code",
   "execution_count": null,
   "id": "f7b98f00",
   "metadata": {},
   "outputs": [],
   "source": []
  },
  {
   "cell_type": "code",
   "execution_count": null,
   "id": "ce4d667c",
   "metadata": {},
   "outputs": [],
   "source": []
  }
 ],
 "metadata": {
  "kernelspec": {
   "display_name": "Python 3 (ipykernel)",
   "language": "python",
   "name": "python3"
  },
  "language_info": {
   "codemirror_mode": {
    "name": "ipython",
    "version": 3
   },
   "file_extension": ".py",
   "mimetype": "text/x-python",
   "name": "python",
   "nbconvert_exporter": "python",
   "pygments_lexer": "ipython3",
   "version": "3.8.10"
  }
 },
 "nbformat": 4,
 "nbformat_minor": 5
}
