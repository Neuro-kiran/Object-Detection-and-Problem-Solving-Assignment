{
 "cells": [
  {
   "cell_type": "markdown",
   "id": "df7939f4",
   "metadata": {},
   "source": [
    "# Task 1: Color-Based Object Detection"
   ]
  },
  {
   "cell_type": "markdown",
   "id": "cdeea4bd",
   "metadata": {},
   "source": [
    "Write a Python script using OpenCV to perform\n",
    "color-based object detection. Your program should be able to:\n",
    "● Capture frames from a video or webcam.\n",
    "● Allow the user to select a specific color range (e.g., red, blue, green).\n",
    "● Detect objects in the specified color range using image processing techniques.\n",
    "● Display the detected objects in real-time using bounding boxes or other appropriate\n",
    "visualizations."
   ]
  },
  {
   "cell_type": "code",
   "execution_count": null,
   "id": "797066c5",
   "metadata": {},
   "outputs": [],
   "source": [
    "import cv2\n",
    "import numpy as np\n",
    "\n",
    "def nothing(x):\n",
    "    pass\n",
    "\n",
    "# Create a window\n",
    "cv2.namedWindow('Frame')\n",
    "\n",
    "# Create trackbars for color change\n",
    "cv2.createTrackbar('LH', 'Frame', 0, 179, nothing)\n",
    "cv2.createTrackbar('LS', 'Frame', 0, 255, nothing)\n",
    "cv2.createTrackbar('LV', 'Frame', 0, 255, nothing)\n",
    "cv2.createTrackbar('UH', 'Frame', 179, 179, nothing)\n",
    "cv2.createTrackbar('US', 'Frame', 255, 255, nothing)\n",
    "cv2.createTrackbar('UV', 'Frame', 255, 255, nothing)\n",
    "\n",
    "# Capture video from webcam\n",
    "cap = cv2.VideoCapture(0)\n",
    "\n",
    "while True:\n",
    "    # Read a frame from the video\n",
    "    ret, frame = cap.read()\n",
    "    if not ret:\n",
    "        break\n",
    "    \n",
    "    # Convert frame to HSV\n",
    "    hsv = cv2.cvtColor(frame, cv2.COLOR_BGR2HSV)\n",
    "    \n",
    "    # Get current positions of the trackbars\n",
    "    l_h = cv2.getTrackbarPos('LH', 'Frame')\n",
    "    l_s = cv2.getTrackbarPos('LS', 'Frame')\n",
    "    l_v = cv2.getTrackbarPos('LV', 'Frame')\n",
    "    u_h = cv2.getTrackbarPos('UH', 'Frame')\n",
    "    u_s = cv2.getTrackbarPos('US', 'Frame')\n",
    "    u_v = cv2.getTrackbarPos('UV', 'Frame')\n",
    "    \n",
    "    # Define the HSV range for color detection\n",
    "    lower_range = np.array([l_h, l_s, l_v])\n",
    "    upper_range = np.array([u_h, u_s, u_v])\n",
    "    \n",
    "    # Create a mask\n",
    "    mask = cv2.inRange(hsv, lower_range, upper_range)\n",
    "    \n",
    "    # Reduce noise in the mask\n",
    "    mask = cv2.erode(mask, None, iterations=2)\n",
    "    mask = cv2.dilate(mask, None, iterations=2)\n",
    "    \n",
    "    # Find contours\n",
    "    contours, _ = cv2.findContours(mask, cv2.RETR_EXTERNAL, cv2.CHAIN_APPROX_SIMPLE)\n",
    "    \n",
    "    for contour in contours:\n",
    "        if cv2.contourArea(contour) > 500:  # Filter out small contours\n",
    "            # Get the bounding box\n",
    "            x, y, w, h = cv2.boundingRect(contour)\n",
    "            \n",
    "            # Draw the bounding box\n",
    "            cv2.rectangle(frame, (x, y), (x + w, y + h), (0, 255, 0), 2)\n",
    "    \n",
    "    # Display the frame\n",
    "    cv2.imshow('Frame', frame)\n",
    "    \n",
    "    # Break the loop on 'q' key press\n",
    "    if cv2.waitKey(1) & 0xFF == ord('q'):\n",
    "        break\n",
    "\n",
    "# Release the video capture object\n",
    "cap.release()\n",
    "cv2.destroyAllWindows()\n"
   ]
  },
  {
   "cell_type": "markdown",
   "id": "3ca61d45",
   "metadata": {},
   "source": [
    "Thanks for visiting"
   ]
  },
  {
   "cell_type": "code",
   "execution_count": null,
   "id": "fcc4f37c",
   "metadata": {},
   "outputs": [],
   "source": []
  }
 ],
 "metadata": {
  "kernelspec": {
   "display_name": "Python 3 (ipykernel)",
   "language": "python",
   "name": "python3"
  },
  "language_info": {
   "codemirror_mode": {
    "name": "ipython",
    "version": 3
   },
   "file_extension": ".py",
   "mimetype": "text/x-python",
   "name": "python",
   "nbconvert_exporter": "python",
   "pygments_lexer": "ipython3",
   "version": "3.8.10"
  }
 },
 "nbformat": 4,
 "nbformat_minor": 5
}
